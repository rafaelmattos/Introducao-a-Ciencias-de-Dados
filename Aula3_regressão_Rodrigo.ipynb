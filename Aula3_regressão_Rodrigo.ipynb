{
  "cells": [
    {
      "cell_type": "markdown",
      "metadata": {
        "id": "view-in-github",
        "colab_type": "text"
      },
      "source": [
        "<a href=\"https://colab.research.google.com/github/rafaelmattos/Introducao-a-Ciencias-de-Dados/blob/main/Aula3_regress%C3%A3o_Rodrigo.ipynb\" target=\"_parent\"><img src=\"https://colab.research.google.com/assets/colab-badge.svg\" alt=\"Open In Colab\"/></a>"
      ]
    },
    {
      "cell_type": "markdown",
      "metadata": {
        "id": "ps9x0Ja3OX6C"
      },
      "source": [
        "# MBA em Ciência de Dados: Modelos de regressão"
      ]
    },
    {
      "cell_type": "markdown",
      "metadata": {
        "id": "vOdRLytFOX6G"
      },
      "source": [
        "Francisco Aparecido Rodrigues, francisco@icmc.usp.br.<br>\n",
        "Universidade de São Paulo, São Carlos, Brasil.<br>\n",
        "Copyright (c) 2023."
      ]
    },
    {
      "cell_type": "markdown",
      "metadata": {
        "id": "Bm6CqlnOOX6H"
      },
      "source": [
        "## Regressão linear simples"
      ]
    },
    {
      "cell_type": "markdown",
      "metadata": {
        "id": "VvrEiXW5OX6I"
      },
      "source": [
        "Vimos que para a regressão linear simples, temos o modelo: $Y \\approx \\beta_0 + \\beta_1 X$"
      ]
    },
    {
      "cell_type": "markdown",
      "metadata": {
        "id": "5QhMJ5weOX6I"
      },
      "source": [
        "Vamos implementar esse método a seguir. Inicialmente, definimos os dados."
      ]
    },
    {
      "cell_type": "code",
      "execution_count": null,
      "metadata": {
        "colab": {
          "base_uri": "https://localhost:8080/",
          "height": 455
        },
        "id": "TOz5uJF2OX6J",
        "outputId": "43e70289-5d6a-4774-e4ae-66ef3d611b5a"
      },
      "outputs": [
        {
          "data": {
            "image/png": "[encoded data removed]",
            "text/plain": [
              "<Figure size 640x480 with 1 Axes>"
            ]
          },
          "metadata": {},
          "output_type": "display_data"
        }
      ],
      "source": [
        "import matplotlib.pyplot as plt\n",
        "import numpy as np\n",
        "\n",
        "# define os dados\n",
        "x = np.array([0, 1, 2, 3, 4, 5, 6, 7, 8, 9])\n",
        "y = np.array([1, 3, 2, 5, 7, 8, 8, 9, 10, 12])\n",
        "plt.plot(x, y, 'bo')\n",
        "plt.xlabel(\"x\", fontsize = 15)\n",
        "plt.ylabel(\"y\", fontsize = 15)\n",
        "plt.show(True)"
      ]
    },
    {
      "cell_type": "markdown",
      "metadata": {
        "id": "aRwUDzzXOX6L"
      },
      "source": [
        "A seguir, implementamos uma função para calcular os coeficientes."
      ]
    },
    {
      "cell_type": "markdown",
      "metadata": {
        "id": "FR_O3wj8OX6M"
      },
      "source": [
        "Estimando os coeficiente através do método dos mínimos quadrados, obtemos:\n",
        "    $$\n",
        "    \\begin{cases}\n",
        "    \\hat{\\beta}_1=\\frac{\\sum_{i=1}^n (x_i- \\bar{x})(y_i - \\bar{y})}{\\sum_{i=1}^n (x_i - \\bar{x})^2} = \\frac{\\sigma_{xy}}{\\sigma_{xx}}\\\\\n",
        "    \\hat{\\beta}_0= \\bar{y}-\\hat{\\beta_1}\\bar{x}\n",
        "    \\end{cases}\n",
        "    $$"
      ]
    },
    {
      "cell_type": "code",
      "execution_count": null,
      "metadata": {
        "id": "8T-NFcjGOX6M"
      },
      "outputs": [],
      "source": [
        "from statistics import variance\n",
        "import math\n",
        "\n",
        "def linear_regression(x, y):\n",
        "    # número de observações/pontos\n",
        "    n = np.size(x)\n",
        "\n",
        "    # médias de x e y\n",
        "    m_x, m_y = np.mean(x), np.mean(y)\n",
        "    SS_xy = 0\n",
        "    SS_xx = 0\n",
        "    for i in range(0,len(x)):\n",
        "        SS_xy = SS_xy + (x[i]-m_x)*(y[i]-m_y)\n",
        "        SS_xx = SS_xx + (x[i]-m_x)**2\n",
        "\n",
        "    # calcula os coeficientes de regressão\n",
        "    b_1 = SS_xy / SS_xx\n",
        "    b_0 = m_y - b_1*m_x\n",
        "\n",
        "    return (b_0, b_1)\n",
        "\n",
        "# função para mostrar os dados e o ajuste linear\n",
        "def plot_regression_line(x, y, b):\n",
        "    # mostra os dados\n",
        "    plt.scatter(x, y, color = \"b\", marker = \"o\", s = 50)\n",
        "\n",
        "    # prediz os valores\n",
        "    y_pred = b[0] + b[1]*x\n",
        "\n",
        "    # mostra a reta de regressão\n",
        "    plt.plot(x, y_pred, color = \"r\")\n",
        "\n",
        "    plt.xlabel('x', fontsize = 15)\n",
        "    plt.ylabel('y', fontsize = 15)\n",
        "    plt.show(True)"
      ]
    },
    {
      "cell_type": "markdown",
      "metadata": {
        "id": "9uJfp9d7OX6N"
      },
      "source": [
        "Assim, aplicando ao conjunto de dados:"
      ]
    },
    {
      "cell_type": "code",
      "execution_count": null,
      "metadata": {
        "colab": {
          "base_uri": "https://localhost:8080/",
          "height": 510
        },
        "id": "TUVF5shMOX6O",
        "outputId": "f836a20a-f18c-4233-b650-2576ed6204f1"
      },
      "outputs": [
        {
          "name": "stdout",
          "output_type": "stream",
          "text": [
            "Estimated coefficients:\n",
            "b_0 = 1.2363636363636363  \n",
            "b_1 = 1.1696969696969697\n"
          ]
        },
        {
          "data": {
            "image/png": "[encoded data removed]",
            "text/plain": [
              "<Figure size 640x480 with 1 Axes>"
            ]
          },
          "metadata": {},
          "output_type": "display_data"
        }
      ],
      "source": [
        "import numpy as np\n",
        "\n",
        "# estima os coeficientes\n",
        "b = linear_regression(x, y)\n",
        "print(\"Estimated coefficients:\\nb_0 = {}  \\nb_1 = {}\".format(b[0], b[1]))\n",
        "\n",
        "# mostra o ajuste linear\n",
        "plot_regression_line(x, y, b)"
      ]
    },
    {
      "cell_type": "markdown",
      "metadata": {
        "id": "7ykmR8uFOX6O"
      },
      "source": [
        "Para quantificar a acurácia do modelo, usamos o erro padrão residual (residual standard error):\n",
        "$$\n",
        "RSE = \\sqrt{\\frac{1}{n-2}\\sum_{i=1}^n (y_i-\\hat{y}_i)^2}\n",
        "$$"
      ]
    },
    {
      "cell_type": "code",
      "execution_count": null,
      "metadata": {
        "colab": {
          "base_uri": "https://localhost:8080/"
        },
        "id": "Y1VSuaonOX6P",
        "outputId": "34cc8046-4868-4ab0-893d-ce15426cdb08"
      },
      "outputs": [
        {
          "name": "stdout",
          "output_type": "stream",
          "text": [
            "RSE: 0.8384690232980003\n"
          ]
        }
      ],
      "source": [
        "#funcao que calcula o RSE\n",
        "def RSE(x,y,b):\n",
        "    n = len(y)\n",
        "    RSE = 0\n",
        "    for i in range(0,n):\n",
        "        y_pred = b[0]+ x[i]*b[1] # valor predito\n",
        "        RSE = RSE + (y[i]-y_pred)**2\n",
        "    RSE = math.sqrt(RSE/(n-2))\n",
        "    return RSE\n",
        "print('RSE:', RSE(x,y,b))"
      ]
    },
    {
      "cell_type": "markdown",
      "metadata": {
        "id": "qhQjZ_mXOX6P"
      },
      "source": [
        "Outra medida importante é o coeficiente R2, que mede a proporção da variabilidade em Y que pode ser explicada a partir de X.\n",
        "$$\n",
        "R^2 = 1-\\frac{\\sum_{i=1}^n (y_i-\\hat{y}_i)^2}{\\sum_{i=1}^n(y_i-\\bar{y})^2}, \\quad 0\\leq R^2\\leq 1\n",
        "$$"
      ]
    },
    {
      "cell_type": "code",
      "execution_count": null,
      "metadata": {
        "colab": {
          "base_uri": "https://localhost:8080/"
        },
        "id": "EnmFtzb8OX6P",
        "outputId": "dd4f1401-4986-4652-94f1-cf571b22c688"
      },
      "outputs": [
        {
          "name": "stdout",
          "output_type": "stream",
          "text": [
            "R2: 0.952538038613988\n"
          ]
        }
      ],
      "source": [
        "def R2(x,y,b):\n",
        "    n = len(y)\n",
        "    c1 = 0\n",
        "    c2 = 0\n",
        "    ym = np.mean(y)\n",
        "    for i in range(0,n):\n",
        "        y_pred = b[0]+ x[i]*b[1] # valor predito\n",
        "        c1 = c1 + (y[i]-y_pred)**2\n",
        "        c2 = c2 + (y[i]-ym)**2\n",
        "    R2 = 1 - c1/c2\n",
        "    return R2\n",
        "\n",
        "print('R2:', R2(x,y,b))"
      ]
    },
    {
      "cell_type": "markdown",
      "metadata": {
        "id": "lo1acReaOX6Q"
      },
      "source": [
        "Quanto mais próximo de um, melhor é o ajuste da regressão linear."
      ]
    },
    {
      "cell_type": "markdown",
      "metadata": {
        "id": "4HcxfMjaOX6Q"
      },
      "source": [
        "## Regressão linear múltipla"
      ]
    },
    {
      "cell_type": "markdown",
      "metadata": {
        "id": "AaeZcR_XOX6Q"
      },
      "source": [
        "Para o caso multivariado, vimos que a estimação dos coeficientes pelo método dos mínimos quadrados resulta na relação:\n",
        "$$\n",
        "\\beta = (\\text{X}^T \\text{X})^{-1} \\text{X}^T \\text{y}\n",
        "$$\n",
        "onde\n",
        "$$\n",
        "\\text{X} = \\begin{pmatrix}\n",
        "1 & x_{11} &x_{12} &\\ldots &x_{1d} \\\\\n",
        "1 & x_{21} &x_{22} &\\ldots &x_{2d} \\\\\n",
        "\\ldots & \\ldots &\\ldots &\\ldots &\\ldots \\\\\n",
        "1 & x_{n1} &x_{n2} &\\ldots &x_{nd} \\\\\n",
        "\\end{pmatrix}\n",
        "$$"
      ]
    },
    {
      "cell_type": "markdown",
      "metadata": {
        "id": "YYZX0U9BOX6Q"
      },
      "source": [
        "Vamos considerar dados reais e a biblioteca scikit-learn. Inicialmente, carregamos os dados."
      ]
    },
    {
      "cell_type": "code",
      "execution_count": null,
      "metadata": {
        "colab": {
          "base_uri": "https://localhost:8080/",
          "height": 381
        },
        "id": "oH1HoVJIOX6Q",
        "outputId": "c61f31df-5b1b-4e16-c218-d9a0b3ad4c21"
      },
      "outputs": [
        {
          "name": "stdout",
          "output_type": "stream",
          "text": [
            "Número de linhas e colunas: (506, 14)\n"
          ]
        },
        {
          "data": {
            "text/html": [
              "<div>\n",
              "<style scoped>\n",
              "    .dataframe tbody tr th:only-of-type {\n",
              "        vertical-align: middle;\n",
              "    }\n",
              "\n",
              "    .dataframe tbody tr th {\n",
              "        vertical-align: top;\n",
              "    }\n",
              "\n",
              "    .dataframe thead th {\n",
              "        text-align: right;\n",
              "    }\n",
              "</style>\n",
              "<table border=\"1\" class=\"dataframe\">\n",
              "  <thead>\n",
              "    <tr style=\"text-align: right;\">\n",
              "      <th></th>\n",
              "      <th>crim</th>\n",
              "      <th>zn</th>\n",
              "      <th>indus</th>\n",
              "      <th>chas</th>\n",
              "      <th>nox</th>\n",
              "      <th>rm</th>\n",
              "      <th>age</th>\n",
              "      <th>dis</th>\n",
              "      <th>rad</th>\n",
              "      <th>tax</th>\n",
              "      <th>ptratio</th>\n",
              "      <th>b</th>\n",
              "      <th>lstat</th>\n",
              "      <th>medv</th>\n",
              "    </tr>\n",
              "  </thead>\n",
              "  <tbody>\n",
              "    <tr>\n",
              "      <th>0</th>\n",
              "      <td>0.00632</td>\n",
              "      <td>18.0</td>\n",
              "      <td>2.31</td>\n",
              "      <td>0</td>\n",
              "      <td>0.538</td>\n",
              "      <td>6.575</td>\n",
              "      <td>65.2</td>\n",
              "      <td>4.0900</td>\n",
              "      <td>1</td>\n",
              "      <td>296</td>\n",
              "      <td>15.3</td>\n",
              "      <td>396.90</td>\n",
              "      <td>4.98</td>\n",
              "      <td>24.0</td>\n",
              "    </tr>\n",
              "    <tr>\n",
              "      <th>1</th>\n",
              "      <td>0.02731</td>\n",
              "      <td>0.0</td>\n",
              "      <td>7.07</td>\n",
              "      <td>0</td>\n",
              "      <td>0.469</td>\n",
              "      <td>6.421</td>\n",
              "      <td>78.9</td>\n",
              "      <td>4.9671</td>\n",
              "      <td>2</td>\n",
              "      <td>242</td>\n",
              "      <td>17.8</td>\n",
              "      <td>396.90</td>\n",
              "      <td>9.14</td>\n",
              "      <td>21.6</td>\n",
              "    </tr>\n",
              "    <tr>\n",
              "      <th>2</th>\n",
              "      <td>0.02729</td>\n",
              "      <td>0.0</td>\n",
              "      <td>7.07</td>\n",
              "      <td>0</td>\n",
              "      <td>0.469</td>\n",
              "      <td>7.185</td>\n",
              "      <td>61.1</td>\n",
              "      <td>4.9671</td>\n",
              "      <td>2</td>\n",
              "      <td>242</td>\n",
              "      <td>17.8</td>\n",
              "      <td>392.83</td>\n",
              "      <td>4.03</td>\n",
              "      <td>34.7</td>\n",
              "    </tr>\n",
              "    <tr>\n",
              "      <th>3</th>\n",
              "      <td>0.03237</td>\n",
              "      <td>0.0</td>\n",
              "      <td>2.18</td>\n",
              "      <td>0</td>\n",
              "      <td>0.458</td>\n",
              "      <td>6.998</td>\n",
              "      <td>45.8</td>\n",
              "      <td>6.0622</td>\n",
              "      <td>3</td>\n",
              "      <td>222</td>\n",
              "      <td>18.7</td>\n",
              "      <td>394.63</td>\n",
              "      <td>2.94</td>\n",
              "      <td>33.4</td>\n",
              "    </tr>\n",
              "    <tr>\n",
              "      <th>4</th>\n",
              "      <td>0.06905</td>\n",
              "      <td>0.0</td>\n",
              "      <td>2.18</td>\n",
              "      <td>0</td>\n",
              "      <td>0.458</td>\n",
              "      <td>7.147</td>\n",
              "      <td>54.2</td>\n",
              "      <td>6.0622</td>\n",
              "      <td>3</td>\n",
              "      <td>222</td>\n",
              "      <td>18.7</td>\n",
              "      <td>396.90</td>\n",
              "      <td>5.33</td>\n",
              "      <td>36.2</td>\n",
              "    </tr>\n",
              "    <tr>\n",
              "      <th>5</th>\n",
              "      <td>0.02985</td>\n",
              "      <td>0.0</td>\n",
              "      <td>2.18</td>\n",
              "      <td>0</td>\n",
              "      <td>0.458</td>\n",
              "      <td>6.430</td>\n",
              "      <td>58.7</td>\n",
              "      <td>6.0622</td>\n",
              "      <td>3</td>\n",
              "      <td>222</td>\n",
              "      <td>18.7</td>\n",
              "      <td>394.12</td>\n",
              "      <td>5.21</td>\n",
              "      <td>28.7</td>\n",
              "    </tr>\n",
              "    <tr>\n",
              "      <th>6</th>\n",
              "      <td>0.08829</td>\n",
              "      <td>12.5</td>\n",
              "      <td>7.87</td>\n",
              "      <td>0</td>\n",
              "      <td>0.524</td>\n",
              "      <td>6.012</td>\n",
              "      <td>66.6</td>\n",
              "      <td>5.5605</td>\n",
              "      <td>5</td>\n",
              "      <td>311</td>\n",
              "      <td>15.2</td>\n",
              "      <td>395.60</td>\n",
              "      <td>12.43</td>\n",
              "      <td>22.9</td>\n",
              "    </tr>\n",
              "    <tr>\n",
              "      <th>7</th>\n",
              "      <td>0.14455</td>\n",
              "      <td>12.5</td>\n",
              "      <td>7.87</td>\n",
              "      <td>0</td>\n",
              "      <td>0.524</td>\n",
              "      <td>6.172</td>\n",
              "      <td>96.1</td>\n",
              "      <td>5.9505</td>\n",
              "      <td>5</td>\n",
              "      <td>311</td>\n",
              "      <td>15.2</td>\n",
              "      <td>396.90</td>\n",
              "      <td>19.15</td>\n",
              "      <td>27.1</td>\n",
              "    </tr>\n",
              "    <tr>\n",
              "      <th>8</th>\n",
              "      <td>0.21124</td>\n",
              "      <td>12.5</td>\n",
              "      <td>7.87</td>\n",
              "      <td>0</td>\n",
              "      <td>0.524</td>\n",
              "      <td>5.631</td>\n",
              "      <td>100.0</td>\n",
              "      <td>6.0821</td>\n",
              "      <td>5</td>\n",
              "      <td>311</td>\n",
              "      <td>15.2</td>\n",
              "      <td>386.63</td>\n",
              "      <td>29.93</td>\n",
              "      <td>16.5</td>\n",
              "    </tr>\n",
              "    <tr>\n",
              "      <th>9</th>\n",
              "      <td>0.17004</td>\n",
              "      <td>12.5</td>\n",
              "      <td>7.87</td>\n",
              "      <td>0</td>\n",
              "      <td>0.524</td>\n",
              "      <td>6.004</td>\n",
              "      <td>85.9</td>\n",
              "      <td>6.5921</td>\n",
              "      <td>5</td>\n",
              "      <td>311</td>\n",
              "      <td>15.2</td>\n",
              "      <td>386.71</td>\n",
              "      <td>17.10</td>\n",
              "      <td>18.9</td>\n",
              "    </tr>\n",
              "  </tbody>\n",
              "</table>\n",
              "</div>"
            ],
            "text/plain": [
              "      crim    zn  indus  chas    nox     rm    age     dis  rad  tax  ptratio  \\\n",
              "0  0.00632  18.0   2.31     0  0.538  6.575   65.2  4.0900    1  296     15.3   \n",
              "1  0.02731   0.0   7.07     0  0.469  6.421   78.9  4.9671    2  242     17.8   \n",
              "2  0.02729   0.0   7.07     0  0.469  7.185   61.1  4.9671    2  242     17.8   \n",
              "3  0.03237   0.0   2.18     0  0.458  6.998   45.8  6.0622    3  222     18.7   \n",
              "4  0.06905   0.0   2.18     0  0.458  7.147   54.2  6.0622    3  222     18.7   \n",
              "5  0.02985   0.0   2.18     0  0.458  6.430   58.7  6.0622    3  222     18.7   \n",
              "6  0.08829  12.5   7.87     0  0.524  6.012   66.6  5.5605    5  311     15.2   \n",
              "7  0.14455  12.5   7.87     0  0.524  6.172   96.1  5.9505    5  311     15.2   \n",
              "8  0.21124  12.5   7.87     0  0.524  5.631  100.0  6.0821    5  311     15.2   \n",
              "9  0.17004  12.5   7.87     0  0.524  6.004   85.9  6.5921    5  311     15.2   \n",
              "\n",
              "        b  lstat  medv  \n",
              "0  396.90   4.98  24.0  \n",
              "1  396.90   9.14  21.6  \n",
              "2  392.83   4.03  34.7  \n",
              "3  394.63   2.94  33.4  \n",
              "4  396.90   5.33  36.2  \n",
              "5  394.12   5.21  28.7  \n",
              "6  395.60  12.43  22.9  \n",
              "7  396.90  19.15  27.1  \n",
              "8  386.63  29.93  16.5  \n",
              "9  386.71  17.10  18.9  "
            ]
          },
          "execution_count": 6,
          "metadata": {},
          "output_type": "execute_result"
        }
      ],
      "source": [
        "import pandas as pd\n",
        "import matplotlib.pyplot as plt\n",
        "\n",
        "# le os dados\n",
        "data = pd.read_csv('data/BostonHousing.csv', header=(0))\n",
        "# valor a ser predito\n",
        "ylabel = data.columns[-1]\n",
        "print(\"Número de linhas e colunas:\", data.shape)\n",
        "data.head(10)"
      ]
    },
    {
      "cell_type": "markdown",
      "metadata": {
        "id": "diHd54LZOX6Q"
      },
      "source": [
        "Transformos os dados para o formato numpy para facilitar o acesso."
      ]
    },
    {
      "cell_type": "code",
      "execution_count": null,
      "metadata": {
        "id": "jaT5ICtjOX6Q"
      },
      "outputs": [],
      "source": [
        "data = data.to_numpy()\n",
        "nrow,ncol = data.shape\n",
        "y = data[:,-1]\n",
        "X = data[:,0:ncol-1]"
      ]
    },
    {
      "cell_type": "markdown",
      "metadata": {
        "id": "UdwhPQhjOX6R"
      },
      "source": [
        "Selecionamos os conjuntos de teste e treinamento, sendo que $p$% dos dados serão usados como teste e (1-p)%, como treinamento."
      ]
    },
    {
      "cell_type": "code",
      "execution_count": null,
      "metadata": {
        "id": "2zhvNgiDOX6R"
      },
      "outputs": [],
      "source": [
        "from sklearn.model_selection import train_test_split\n",
        "# divide o conjunto em treinamento e teste\n",
        "p = 0.3 # fracao e elementos no conjnto de teste\n",
        "x_train, x_test, y_train, y_test = train_test_split(X, y, test_size = p, random_state = 42)"
      ]
    },
    {
      "cell_type": "markdown",
      "metadata": {
        "id": "TcR8k8qAOX6R"
      },
      "source": [
        "O ajuste dos coeficientes da regressão linear é feito usando apenas o conjunto de treinamento."
      ]
    },
    {
      "cell_type": "code",
      "execution_count": null,
      "metadata": {
        "id": "gFlaRMFPOX6R"
      },
      "outputs": [],
      "source": [
        "from sklearn.linear_model import LinearRegression\n",
        "\n",
        "# modelo de regressão linear múltipla\n",
        "lm = LinearRegression()\n",
        "lm.fit(x_train, y_train)\n",
        "\n",
        "y_pred = lm.predict(x_test)"
      ]
    },
    {
      "cell_type": "markdown",
      "metadata": {
        "id": "ntKJLVkNOX6S"
      },
      "source": [
        "Notem que como temos várias variáveis, não é possível mostrar os resultados em mais de três dimensões. Nesse caso, uma maneira de visualizar a precisão na predição é graficar os valores reais versus as predições, como mostramos abaixo."
      ]
    },
    {
      "cell_type": "code",
      "execution_count": null,
      "metadata": {
        "colab": {
          "base_uri": "https://localhost:8080/",
          "height": 455
        },
        "id": "6BHU-VgLOX6S",
        "outputId": "111a870b-258e-4d28-c44f-dc7d1922c228"
      },
      "outputs": [
        {
          "data": {
            "image/png": "[encoded data removed]",
            "text/plain": [
              "<Figure size 640x480 with 1 Axes>"
            ]
          },
          "metadata": {},
          "output_type": "display_data"
        }
      ],
      "source": [
        "import matplotlib.pyplot as plt\n",
        "\n",
        "fig = plt.figure()\n",
        "l = plt.plot(y_pred, y_test, 'bo')\n",
        "plt.setp(l, markersize=10)\n",
        "plt.setp(l, markerfacecolor='C0')\n",
        "\n",
        "plt.ylabel(\"y\", fontsize=15)\n",
        "plt.xlabel(\"Prediction\", fontsize=15)\n",
        "\n",
        "# mostra os valores preditos e originais\n",
        "xl = np.arange(min(y_test), 1.2*max(y_test),(max(y_test)-min(y_test))/10)\n",
        "yl = xl\n",
        "plt.plot(xl, yl, 'r--')\n",
        "\n",
        "plt.show(True)\n",
        "# salva a figura em um arquivo\n",
        "fig.savefig('regression-LR.jpg')"
      ]
    },
    {
      "cell_type": "markdown",
      "metadata": {
        "id": "lhomDPcYOX6S"
      },
      "source": [
        "Quanto mais próximo da reta em vermelho, melhor será a predição, pois essa reta representa o caso em que $\\hat{y} = y$."
      ]
    },
    {
      "cell_type": "markdown",
      "metadata": {
        "id": "vqv6QT3EOX6S"
      },
      "source": [
        "Para quantificarmos o ajuste, calculamos o coeficiente R2."
      ]
    },
    {
      "cell_type": "code",
      "execution_count": null,
      "metadata": {
        "colab": {
          "base_uri": "https://localhost:8080/"
        },
        "id": "6BxQ-KMLOX6T",
        "outputId": "5e53d368-f04b-49dc-eedc-e0b6283667e8"
      },
      "outputs": [
        {
          "name": "stdout",
          "output_type": "stream",
          "text": [
            "R2: 0.7112260057484956\n"
          ]
        }
      ],
      "source": [
        "from sklearn.metrics import r2_score\n",
        "R2 = r2_score(y_test, y_pred)\n",
        "print('R2:', R2)"
      ]
    },
    {
      "cell_type": "markdown",
      "metadata": {
        "id": "BpCMFYmpOX6T"
      },
      "source": [
        "## Variáveis não lineares"
      ]
    },
    {
      "cell_type": "markdown",
      "metadata": {
        "id": "pe57qyewOX6T"
      },
      "source": [
        "Notem que o modelo não precisa ter termos lineares em X, mas apenas nos parâmetros. Por exemplo, modelo abaixo ainda é linear nos parâmetros: $$y = \\beta_0 + \\beta_1 x + \\beta_2 x^2 + \\epsilon$$"
      ]
    },
    {
      "cell_type": "markdown",
      "metadata": {
        "id": "spoeDsKnOX6T"
      },
      "source": [
        "Vamos considerar um exemplo."
      ]
    },
    {
      "cell_type": "code",
      "execution_count": null,
      "metadata": {
        "colab": {
          "base_uri": "https://localhost:8080/",
          "height": 455
        },
        "id": "Egkx_3ImOX6T",
        "outputId": "9fe19d21-3a08-41a5-aa45-a1f59f2c35e6"
      },
      "outputs": [
        {
          "data": {
            "image/png": "[encoded data removed]",
            "text/plain": [
              "<Figure size 640x480 with 1 Axes>"
            ]
          },
          "metadata": {},
          "output_type": "display_data"
        }
      ],
      "source": [
        "import numpy as np\n",
        "from sklearn.linear_model import LinearRegression\n",
        "\n",
        "x = np.array([5, 15, 25, 35, 45, 55])\n",
        "y = np.array([15, 11, 2, 8, 25, 32])\n",
        "plt.plot(x,y, 'ro')\n",
        "plt.ylabel(\"y\", fontsize=15)\n",
        "plt.xlabel(\"x\", fontsize=15)\n",
        "\n",
        "plt.show(True)"
      ]
    },
    {
      "cell_type": "markdown",
      "metadata": {
        "id": "Z_lUmii8OX6T"
      },
      "source": [
        "Geramos os dados quadráticos inserindo mais uma coluna."
      ]
    },
    {
      "cell_type": "code",
      "execution_count": null,
      "metadata": {
        "colab": {
          "base_uri": "https://localhost:8080/"
        },
        "id": "SJDbqnE6OX6T",
        "outputId": "c194ba7c-333c-46a3-a675-6b3c228e8afb"
      },
      "outputs": [
        {
          "name": "stdout",
          "output_type": "stream",
          "text": [
            "Dados originais:\n",
            " [[ 5]\n",
            " [15]\n",
            " [25]\n",
            " [35]\n",
            " [45]\n",
            " [55]]\n",
            "Novos dados:\n",
            " [[   5.   25.]\n",
            " [  15.  225.]\n",
            " [  25.  625.]\n",
            " [  35. 1225.]\n",
            " [  45. 2025.]\n",
            " [  55. 3025.]]\n"
          ]
        }
      ],
      "source": [
        "from sklearn.preprocessing import PolynomialFeatures\n",
        "\n",
        "# define a transformação nos dados\n",
        "transformer = PolynomialFeatures(degree=2, include_bias=False)\n",
        "x = x.reshape((-1, 1))\n",
        "transformer.fit(x)\n",
        "print('Dados originais:\\n', x)\n",
        "\n",
        "# transforma os dados incluindo uma nova coluna com valores quadráticos\n",
        "x_ = transformer.transform(x)\n",
        "print('Novos dados:\\n', x_)"
      ]
    },
    {
      "cell_type": "markdown",
      "metadata": {
        "id": "JINg-G9oOX6U"
      },
      "source": [
        "O modelo será dado por: $$y = \\beta_0 + \\beta_1 x + \\beta_2 x^2 + \\epsilon$$"
      ]
    },
    {
      "cell_type": "markdown",
      "metadata": {
        "id": "0xCqC-x8OX6U"
      },
      "source": [
        "Vamos aplicar a regressão linear:"
      ]
    },
    {
      "cell_type": "code",
      "execution_count": null,
      "metadata": {
        "id": "nbD03UmSOX6Z"
      },
      "outputs": [],
      "source": [
        "model = LinearRegression().fit(x_, y)\n",
        "y_pred = model.predict(x_)"
      ]
    },
    {
      "cell_type": "markdown",
      "metadata": {
        "id": "fIo9HpklOX6Z"
      },
      "source": [
        "Mostrando os valores preditos ($\\hat{y}$) e os originais ($y$):"
      ]
    },
    {
      "cell_type": "code",
      "execution_count": null,
      "metadata": {
        "colab": {
          "base_uri": "https://localhost:8080/",
          "height": 455
        },
        "id": "UCf1b5S_OX6Z",
        "outputId": "93ee9cb4-6a72-4b4c-8bdd-ab1ae0d5eab5"
      },
      "outputs": [
        {
          "data": {
            "image/png": "[encoded data removed]",
            "text/plain": [
              "<Figure size 640x480 with 1 Axes>"
            ]
          },
          "metadata": {},
          "output_type": "display_data"
        }
      ],
      "source": [
        "import matplotlib.pyplot as plt\n",
        "\n",
        "fig = plt.figure()\n",
        "l = plt.plot(y_pred, y, 'bo')\n",
        "plt.setp(l, markersize=10)\n",
        "plt.setp(l, markerfacecolor='C0')\n",
        "\n",
        "plt.ylabel(\"y\", fontsize=15)\n",
        "plt.xlabel(\"Prediction\", fontsize=15)\n",
        "\n",
        "# mostra a reta diagonal, que representa a predição perfeita\n",
        "xl = np.arange(min(y), 1.2*max(y),(max(y)-min(y))/10)\n",
        "yl = xl\n",
        "plt.plot(xl, yl, 'r--')\n",
        "\n",
        "plt.show(True)"
      ]
    },
    {
      "cell_type": "markdown",
      "metadata": {
        "id": "34h0cWrrOX6a"
      },
      "source": [
        "Mostrando os valores no gráfico original:"
      ]
    },
    {
      "cell_type": "code",
      "execution_count": null,
      "metadata": {
        "colab": {
          "base_uri": "https://localhost:8080/",
          "height": 455
        },
        "id": "NANhKnMJOX6a",
        "outputId": "8fd763bd-ccac-4f17-9780-3ccdc3d80518"
      },
      "outputs": [
        {
          "data": {
            "image/png": "[encoded data removed]",
            "text/plain": [
              "<Figure size 640x480 with 1 Axes>"
            ]
          },
          "metadata": {},
          "output_type": "display_data"
        }
      ],
      "source": [
        "plt.plot(x,y, 'ro', label='Dados originais')\n",
        "plt.plot(x,y_pred, 'b-', label = 'Dados preditos')\n",
        "plt.ylabel(\"y\", fontsize=15)\n",
        "plt.xlabel(\"x\", fontsize=15)\n",
        "plt.legend()\n",
        "plt.show(True)"
      ]
    },
    {
      "cell_type": "markdown",
      "metadata": {
        "id": "YoziA9JHOX6b"
      },
      "source": [
        "O coeficiente R2:"
      ]
    },
    {
      "cell_type": "code",
      "execution_count": null,
      "metadata": {
        "colab": {
          "base_uri": "https://localhost:8080/"
        },
        "id": "HXH0k9e2OX6b",
        "outputId": "88d67aa0-3ef3-4152-d724-8eb62d4478f3"
      },
      "outputs": [
        {
          "name": "stdout",
          "output_type": "stream",
          "text": [
            "R2: 0.8908516262498564\n"
          ]
        }
      ],
      "source": [
        "from sklearn.metrics import r2_score\n",
        "R2 = r2_score(y, y_pred)\n",
        "print('R2:', R2)"
      ]
    },
    {
      "cell_type": "markdown",
      "metadata": {
        "id": "bIwAbQj-OX6b"
      },
      "source": [
        "Portanto, para ajustar um modelo com variáveis não lineares, basta gerarmos um novo conjunto de dados inserindo novas colunas aos dados originais e realizar o procedimento de regressão multivariada. Cada coluna inserida contém os dados originais elevados a uma potência definida pelos termos do modelo."
      ]
    },
    {
      "cell_type": "markdown",
      "metadata": {
        "id": "U2LhUT_hOX6f"
      },
      "source": [
        "## Ridge regression"
      ]
    },
    {
      "cell_type": "markdown",
      "metadata": {
        "id": "uKIE1SHROX6f"
      },
      "source": [
        "Vamos considerar dados sobre propaganda em rádio, televisão e jornais. Estamos interessados em determinar se o investimento em propaganda aumenta as vendas e, em caso afirmativo, qual seria o veículo de divulgação mais vantajoso."
      ]
    },
    {
      "cell_type": "code",
      "execution_count": null,
      "metadata": {
        "colab": {
          "base_uri": "https://localhost:8080/",
          "height": 381
        },
        "id": "BSYZybBHOX6f",
        "outputId": "56ed82b7-1e17-49e6-8be1-9e8f59203836"
      },
      "outputs": [
        {
          "name": "stdout",
          "output_type": "stream",
          "text": [
            "Número de observações e atributos: (200, 4)\n"
          ]
        },
        {
          "data": {
            "text/html": [
              "<div>\n",
              "<style scoped>\n",
              "    .dataframe tbody tr th:only-of-type {\n",
              "        vertical-align: middle;\n",
              "    }\n",
              "\n",
              "    .dataframe tbody tr th {\n",
              "        vertical-align: top;\n",
              "    }\n",
              "\n",
              "    .dataframe thead th {\n",
              "        text-align: right;\n",
              "    }\n",
              "</style>\n",
              "<table border=\"1\" class=\"dataframe\">\n",
              "  <thead>\n",
              "    <tr style=\"text-align: right;\">\n",
              "      <th></th>\n",
              "      <th>TV</th>\n",
              "      <th>radio</th>\n",
              "      <th>newspaper</th>\n",
              "      <th>sales</th>\n",
              "    </tr>\n",
              "  </thead>\n",
              "  <tbody>\n",
              "    <tr>\n",
              "      <th>0</th>\n",
              "      <td>230.1</td>\n",
              "      <td>37.8</td>\n",
              "      <td>69.2</td>\n",
              "      <td>22.1</td>\n",
              "    </tr>\n",
              "    <tr>\n",
              "      <th>1</th>\n",
              "      <td>44.5</td>\n",
              "      <td>39.3</td>\n",
              "      <td>45.1</td>\n",
              "      <td>10.4</td>\n",
              "    </tr>\n",
              "    <tr>\n",
              "      <th>2</th>\n",
              "      <td>17.2</td>\n",
              "      <td>45.9</td>\n",
              "      <td>69.3</td>\n",
              "      <td>9.3</td>\n",
              "    </tr>\n",
              "    <tr>\n",
              "      <th>3</th>\n",
              "      <td>151.5</td>\n",
              "      <td>41.3</td>\n",
              "      <td>58.5</td>\n",
              "      <td>18.5</td>\n",
              "    </tr>\n",
              "    <tr>\n",
              "      <th>4</th>\n",
              "      <td>180.8</td>\n",
              "      <td>10.8</td>\n",
              "      <td>58.4</td>\n",
              "      <td>12.9</td>\n",
              "    </tr>\n",
              "    <tr>\n",
              "      <th>5</th>\n",
              "      <td>8.7</td>\n",
              "      <td>48.9</td>\n",
              "      <td>75.0</td>\n",
              "      <td>7.2</td>\n",
              "    </tr>\n",
              "    <tr>\n",
              "      <th>6</th>\n",
              "      <td>57.5</td>\n",
              "      <td>32.8</td>\n",
              "      <td>23.5</td>\n",
              "      <td>11.8</td>\n",
              "    </tr>\n",
              "    <tr>\n",
              "      <th>7</th>\n",
              "      <td>120.2</td>\n",
              "      <td>19.6</td>\n",
              "      <td>11.6</td>\n",
              "      <td>13.2</td>\n",
              "    </tr>\n",
              "    <tr>\n",
              "      <th>8</th>\n",
              "      <td>8.6</td>\n",
              "      <td>2.1</td>\n",
              "      <td>1.0</td>\n",
              "      <td>4.8</td>\n",
              "    </tr>\n",
              "    <tr>\n",
              "      <th>9</th>\n",
              "      <td>199.8</td>\n",
              "      <td>2.6</td>\n",
              "      <td>21.2</td>\n",
              "      <td>10.6</td>\n",
              "    </tr>\n",
              "  </tbody>\n",
              "</table>\n",
              "</div>"
            ],
            "text/plain": [
              "      TV  radio  newspaper  sales\n",
              "0  230.1   37.8       69.2   22.1\n",
              "1   44.5   39.3       45.1   10.4\n",
              "2   17.2   45.9       69.3    9.3\n",
              "3  151.5   41.3       58.5   18.5\n",
              "4  180.8   10.8       58.4   12.9\n",
              "5    8.7   48.9       75.0    7.2\n",
              "6   57.5   32.8       23.5   11.8\n",
              "7  120.2   19.6       11.6   13.2\n",
              "8    8.6    2.1        1.0    4.8\n",
              "9  199.8    2.6       21.2   10.6"
            ]
          },
          "execution_count": 18,
          "metadata": {},
          "output_type": "execute_result"
        }
      ],
      "source": [
        "import pandas as pd\n",
        "import matplotlib.pyplot as plt\n",
        "\n",
        "# leitura dos dados\n",
        "data = pd.read_csv('data/Advertising.csv', header=(0))\n",
        "# remove nan (Not a Number)\n",
        "data = data.dropna()\n",
        "data = data.drop(data.columns[[0]], axis=1) # remove the first column (if useless)\n",
        "# define a variável de saída\n",
        "ylabel = data.columns[-1]\n",
        "\n",
        "print('Número de observações e atributos:',data.shape)\n",
        "list_labels = list(data.columns)\n",
        "data.head(10)"
      ]
    },
    {
      "cell_type": "code",
      "execution_count": null,
      "metadata": {
        "id": "6YDxKNLCOX6g"
      },
      "outputs": [],
      "source": [
        "# Converte os dados para numpy para facilitar a manipulação\n",
        "data = data.to_numpy()\n",
        "nrow,ncol = data.shape\n",
        "y = data[:,-1]\n",
        "X = data[:,0:ncol-1]"
      ]
    },
    {
      "cell_type": "markdown",
      "metadata": {
        "id": "L4Zu0qwuOX6g"
      },
      "source": [
        "Ajustando o modelo de regressão múltipla simples."
      ]
    },
    {
      "cell_type": "code",
      "execution_count": null,
      "metadata": {
        "id": "qCWoaLmXOX6g"
      },
      "outputs": [],
      "source": [
        "from sklearn.model_selection import train_test_split\n",
        "# Split the data into training and testing sets\n",
        "p = 0.3 # fracao de elementos no conjunto de teste\n",
        "x_train, x_test, y_train, y_test = train_test_split(X, y, test_size = p, random_state = 42)"
      ]
    },
    {
      "cell_type": "code",
      "execution_count": null,
      "metadata": {
        "colab": {
          "base_uri": "https://localhost:8080/"
        },
        "id": "yoRX7hEyOX6g",
        "outputId": "8c3abb81-c9eb-415f-dea9-34c48d560a9d"
      },
      "outputs": [
        {
          "name": "stdout",
          "output_type": "stream",
          "text": [
            "RSME: 3.7967972367152196\n"
          ]
        }
      ],
      "source": [
        "from sklearn.linear_model import LinearRegression\n",
        "from sklearn.metrics import mean_squared_error\n",
        "\n",
        "# modelo de regressão linear múltipla\n",
        "lm = LinearRegression()\n",
        "lm.fit(x_train, y_train)\n",
        "\n",
        "y_pred = lm.predict(x_test)\n",
        "RSME = mean_squared_error(y_test, y_pred)\n",
        "print(\"RSME:\", RSME)          # Calculate the test MSE"
      ]
    },
    {
      "cell_type": "code",
      "execution_count": null,
      "metadata": {
        "colab": {
          "base_uri": "https://localhost:8080/"
        },
        "id": "J5x8vL0OOX6h",
        "outputId": "d156805d-70f3-4ebb-c523-f41b568d6e47"
      },
      "outputs": [
        {
          "name": "stdout",
          "output_type": "stream",
          "text": [
            "R2: 0.8609466508230368\n"
          ]
        }
      ],
      "source": [
        "from sklearn.metrics import r2_score\n",
        "R2 = r2_score(y_test, y_pred)\n",
        "print('R2:', R2)"
      ]
    },
    {
      "cell_type": "markdown",
      "metadata": {
        "id": "j5Jsuh1AOX6h"
      },
      "source": [
        "Notem que esse resultado é o mesmo se aplicarmos a função Ridge com alpha = 0."
      ]
    },
    {
      "cell_type": "code",
      "execution_count": null,
      "metadata": {
        "colab": {
          "base_uri": "https://localhost:8080/"
        },
        "id": "TwcZj0_uOX6h",
        "outputId": "ffc4e8c0-cf90-4176-bacd-07207105c18d"
      },
      "outputs": [
        {
          "name": "stdout",
          "output_type": "stream",
          "text": [
            "RSME: 3.796797236715216\n"
          ]
        }
      ],
      "source": [
        "from sklearn.linear_model import Ridge, RidgeCV\n",
        "from sklearn.metrics import mean_squared_error\n",
        "\n",
        "# ajusta o modelo ridge regression\n",
        "ridge2 = Ridge(alpha = 0)\n",
        "ridge2.fit(x_train, y_train)             # Fit a ridge regression on the training data\n",
        "y_pred = ridge2.predict(x_test)           # Use this model to predict the test data\n",
        "RSME = mean_squared_error(y_test, y_pred)\n",
        "print(\"RSME:\", RSME)          # Calculate the test MSE"
      ]
    },
    {
      "cell_type": "markdown",
      "metadata": {
        "id": "Jto1aya3OX6h"
      },
      "source": [
        "Podemos mostrar a predição e os valores originais para $\\alpha > 0$."
      ]
    },
    {
      "cell_type": "code",
      "execution_count": null,
      "metadata": {
        "colab": {
          "base_uri": "https://localhost:8080/"
        },
        "id": "cc7FW6LOOX6h",
        "outputId": "6765b321-606a-4af4-dd70-26b39f53aa1a"
      },
      "outputs": [
        {
          "name": "stdout",
          "output_type": "stream",
          "text": [
            "RSME: 3.796691873092173\n"
          ]
        }
      ],
      "source": [
        "from sklearn.linear_model import Ridge, RidgeCV\n",
        "from sklearn.metrics import mean_squared_error\n",
        "\n",
        "# ajusta o modelo ridge regression\n",
        "ridge2 = Ridge(alpha = 1)\n",
        "ridge2.fit(x_train, y_train)             # Fit a ridge regression on the training data\n",
        "y_pred = ridge2.predict(x_test)           # Use this model to predict the test data\n",
        "RSME = mean_squared_error(y_test, y_pred)\n",
        "print(\"RSME:\", RSME)          # Calculate the test MSE"
      ]
    },
    {
      "cell_type": "code",
      "execution_count": null,
      "metadata": {
        "colab": {
          "base_uri": "https://localhost:8080/",
          "height": 455
        },
        "id": "bDTXw8UWOX6i",
        "outputId": "8f26266b-7219-440b-b2d1-846fc75b7375"
      },
      "outputs": [
        {
          "data": {
            "image/png": "[encoded data removed]",
            "text/plain": [
              "<Figure size 640x480 with 1 Axes>"
            ]
          },
          "metadata": {},
          "output_type": "display_data"
        }
      ],
      "source": [
        "import matplotlib.pyplot as plt\n",
        "\n",
        "fig = plt.figure()\n",
        "l = plt.plot(y_pred, y_test, 'bo')\n",
        "plt.setp(l, markersize=10)\n",
        "plt.setp(l, markerfacecolor='C0')\n",
        "\n",
        "plt.ylabel(\"Y\", fontsize=15)\n",
        "plt.xlabel(\"Prediction\", fontsize=15)\n",
        "\n",
        "xl = np.arange(min(y_test), 1.2*max(y_test),(max(y_test)-min(y_test))/10)\n",
        "yl = xl\n",
        "plt.plot(xl, yl, 'r--')\n",
        "\n",
        "#plt.grid(True)\n",
        "plt.show(True)"
      ]
    },
    {
      "cell_type": "markdown",
      "metadata": {
        "id": "RRlyk_XWOX6i"
      },
      "source": [
        "O coeficiente R2 quantifica a qualidade do ajuste."
      ]
    },
    {
      "cell_type": "code",
      "execution_count": null,
      "metadata": {
        "colab": {
          "base_uri": "https://localhost:8080/"
        },
        "id": "veUn6VMdOX6i",
        "outputId": "6ecf3aad-4592-446c-feca-214d7193c4fd"
      },
      "outputs": [
        {
          "name": "stdout",
          "output_type": "stream",
          "text": [
            "R2: 0.8609505096450261\n"
          ]
        }
      ],
      "source": [
        "from sklearn.metrics import r2_score\n",
        "R2 = r2_score(y_test, y_pred)\n",
        "print('R2:', R2)"
      ]
    },
    {
      "cell_type": "markdown",
      "metadata": {
        "id": "YrQnuZ8mOX6i"
      },
      "source": [
        "No modelo ridge regression, temos que o parâmetro $\\alpha > 0$. Vamos analisar como o coeficiente R2 varia de acordo com $\\alpha$."
      ]
    },
    {
      "cell_type": "code",
      "execution_count": null,
      "metadata": {
        "colab": {
          "base_uri": "https://localhost:8080/",
          "height": 471
        },
        "id": "sqvmmS2YOX6i",
        "outputId": "c111fcaa-9c72-4dc7-e6ef-41323f76adb5",
        "scrolled": true
      },
      "outputs": [
        {
          "data": {
            "image/png": "[encoded data removed]",
            "text/plain": [
              "<Figure size 640x480 with 1 Axes>"
            ]
          },
          "metadata": {},
          "output_type": "display_data"
        }
      ],
      "source": [
        "vR2 = []\n",
        "valpha = []\n",
        "# variamos os valaores de alpha\n",
        "for alpha in np.arange(0,100000,100):\n",
        "    ridge2 = Ridge(alpha = alpha)\n",
        "    ridge2.fit(x_train, y_train)             # Fit a ridge regression on the training data\n",
        "    y_pred = ridge2.predict(x_test)           # Use this model to predict the test data\n",
        "    r2 = r2_score(y_test, y_pred)\n",
        "    vR2.append(r2)\n",
        "    valpha.append(alpha)\n",
        "plt.plot(valpha, vR2, '-r')\n",
        "plt.xlabel(\"alpha\", fontsize=15)\n",
        "plt.ylabel(\"R2\", fontsize=15)\n",
        "plt.show(True)"
      ]
    },
    {
      "cell_type": "markdown",
      "metadata": {
        "id": "z8ptMPtxOX6j"
      },
      "source": [
        "Para $\\alpha > 0$, o coeficiente R2 diminui, indicando que o ajuste tradicional, para $\\alpha = 0$, resulta em um resultado melhor."
      ]
    },
    {
      "cell_type": "markdown",
      "metadata": {
        "id": "_rmaIk2cOX6j"
      },
      "source": [
        "Ou seja, para esse conjunto de dados, a melhor opção é considerar a regressão linear simples."
      ]
    },
    {
      "cell_type": "markdown",
      "metadata": {
        "id": "e2aSKEUdOX6j"
      },
      "source": [
        "### LASSO"
      ]
    },
    {
      "cell_type": "markdown",
      "metadata": {
        "id": "7keEEEdSOX6j"
      },
      "source": [
        "Usando os dados anteriores, vamos aplicar o método Lasso (least absolute shrinkage and selection operator) aos dados."
      ]
    },
    {
      "cell_type": "code",
      "execution_count": null,
      "metadata": {
        "colab": {
          "base_uri": "https://localhost:8080/"
        },
        "id": "lv16vlRGOX6j",
        "outputId": "0d81c3e9-e70b-4f7c-d54e-ec54178e16e5"
      },
      "outputs": [
        {
          "name": "stdout",
          "output_type": "stream",
          "text": [
            "RSME: 3.7847436687283715\n"
          ]
        }
      ],
      "source": [
        "from sklearn.linear_model import Lasso\n",
        "from sklearn.metrics import mean_squared_error\n",
        "\n",
        "alpha = 0.1\n",
        "# notice that we need to normalize the attributes: normalize = True\n",
        "lasso = Lasso(alpha=alpha, max_iter=100000)\n",
        "lasso.fit(x_train, y_train)             # Fit a ridge regression on the training data\n",
        "y_pred = lasso.predict(x_test)           # Use this model to predict the test data\n",
        "RSME = mean_squared_error(y_test, y_pred)         # Calculate the test MSE\n",
        "print('RSME:', RSME)"
      ]
    },
    {
      "cell_type": "code",
      "execution_count": null,
      "metadata": {
        "colab": {
          "base_uri": "https://localhost:8080/",
          "height": 455
        },
        "id": "5ZiV37_qOX6j",
        "outputId": "932012f3-bf03-4ec0-9ee5-fca748f9da39"
      },
      "outputs": [
        {
          "data": {
            "image/png": "[encoded data removed]",
            "text/plain": [
              "<Figure size 640x480 with 1 Axes>"
            ]
          },
          "metadata": {},
          "output_type": "display_data"
        }
      ],
      "source": [
        "import matplotlib.pyplot as plt\n",
        "\n",
        "fig = plt.figure()\n",
        "l = plt.plot(y_pred, y_test, 'bo')\n",
        "plt.setp(l, markersize=10)\n",
        "plt.setp(l, markerfacecolor='C0')\n",
        "\n",
        "plt.ylabel(\"Y\", fontsize=15)\n",
        "plt.xlabel(\"Prediction\", fontsize=15)\n",
        "\n",
        "xl = np.arange(min(y_test), 1.2*max(y_test),(max(y_test)-min(y_test))/10)\n",
        "yl = xl\n",
        "plt.plot(xl, yl, 'r--')\n",
        "\n",
        "#plt.grid(True)\n",
        "plt.show(True)"
      ]
    },
    {
      "cell_type": "code",
      "execution_count": null,
      "metadata": {
        "colab": {
          "base_uri": "https://localhost:8080/"
        },
        "id": "uMvEsWlFOX6k",
        "outputId": "7a203d6f-a42c-49a2-9625-d105fc0675bb"
      },
      "outputs": [
        {
          "name": "stdout",
          "output_type": "stream",
          "text": [
            "R2: 0.861388098941966\n"
          ]
        }
      ],
      "source": [
        "from sklearn.metrics import r2_score\n",
        "R2 = r2_score(y_test, y_pred)\n",
        "print(\"R2:\", R2)          # Calculate the test MSE"
      ]
    },
    {
      "cell_type": "markdown",
      "metadata": {
        "id": "ybKSQFagOX6k"
      },
      "source": [
        "Vemos que o valor de R2 é menor do que o obtido nos exemplos anteriores, indicando que para os dados que estamos analisando, a regressão simples oferece o melhor resultado."
      ]
    },
    {
      "cell_type": "markdown",
      "metadata": {
        "id": "FIr1-dc8OX6k"
      },
      "source": [
        "Variando alpha, vemos que o coeficiente R2 diminui ainda mais."
      ]
    },
    {
      "cell_type": "code",
      "execution_count": null,
      "metadata": {
        "colab": {
          "base_uri": "https://localhost:8080/",
          "height": 455
        },
        "id": "xKqxAP-eOX6k",
        "outputId": "02923382-463e-45ab-8274-2a1f13723941",
        "scrolled": true
      },
      "outputs": [
        {
          "data": {
            "image/png": "[encoded data removed]",
            "text/plain": [
              "<Figure size 640x480 with 1 Axes>"
            ]
          },
          "metadata": {},
          "output_type": "display_data"
        }
      ],
      "source": [
        "vR2 = []\n",
        "valpha = []\n",
        "for alpha in np.arange(0.01,50,0.1):\n",
        "    lasso = Lasso(alpha = alpha)\n",
        "    lasso.fit(x_train, y_train)             # Fit a ridge regression on the training data\n",
        "    y_pred = lasso.predict(x_test)           # Use this model to predict the test data\n",
        "    r2 = r2_score(y_test, y_pred)\n",
        "    vR2.append(r2)\n",
        "    valpha.append(alpha)\n",
        "plt.plot(valpha, vR2, '-r')\n",
        "plt.xlabel(\"alpha\", fontsize=15)\n",
        "plt.ylabel(\"R2\", fontsize=15)\n",
        "plt.show(True)"
      ]
    },
    {
      "cell_type": "code",
      "execution_count": null,
      "metadata": {
        "id": "dXsPXBSjzh-9",
        "outputId": "ede3b5a0-50c7-4c21-b444-3b54b66f0fca"
      },
      "outputs": [
        {
          "data": {
            "text/plain": [
              "8.51"
            ]
          },
          "execution_count": 47,
          "metadata": {},
          "output_type": "execute_result"
        }
      ],
      "source": [
        "valpha[np.argmax(vR2)]"
      ]
    },
    {
      "cell_type": "markdown",
      "metadata": {
        "id": "cfRjZsKxOX6k"
      },
      "source": [
        "No método Lasso, podemos calcular os coeficientes de modo a selecionar os atributos mais importantes. Se algum atributo apresentar os respectivo coeficiente igual a zero, então esse atributo não contribui para a regressão."
      ]
    },
    {
      "cell_type": "code",
      "execution_count": null,
      "metadata": {
        "colab": {
          "base_uri": "https://localhost:8080/"
        },
        "id": "UHAH08y9OX6k",
        "outputId": "dd67a533-c3a6-4a69-fe8d-eb98382990c4"
      },
      "outputs": [
        {
          "name": "stdout",
          "output_type": "stream",
          "text": [
            "Coeficientes: TV, radio, newspaper\n"
          ]
        },
        {
          "data": {
            "text/plain": [
              "array([0.04405065, 0.19888746, 0.00674515])"
            ]
          },
          "execution_count": 32,
          "metadata": {},
          "output_type": "execute_result"
        }
      ],
      "source": [
        "lasso = Lasso(alpha = 0.1)\n",
        "lasso.fit(x_train, y_train)             # Fit a ridge regression on the training data\n",
        "print('Coeficientes: TV, radio, newspaper')\n",
        "lasso.coef_"
      ]
    },
    {
      "cell_type": "markdown",
      "metadata": {
        "id": "rvBNjAaUOX6l"
      },
      "source": [
        "Ou seja, vemos que a variável newspaper recebeu peso igual a zero, indicando que não é importante na predição. Portanto, não vale a pena investir em anúncios em jornais, pois o ganho nas vendas pode ser obtido com investimentos em TV e radio."
      ]
    },
    {
      "cell_type": "markdown",
      "metadata": {
        "id": "FMP8oMqcOX6l"
      },
      "source": [
        "## Inferência sobre os parâmetros\n"
      ]
    },
    {
      "cell_type": "markdown",
      "metadata": {
        "id": "ADO7QP_LOX6l"
      },
      "source": [
        "Vamos gerar os dados e usar a biblioteca ols para realizar a inferência sobre os parâmetros do modelo. (https://www.statsmodels.org/dev/generated/statsmodels.regression.linear_model.OLS.html)"
      ]
    },
    {
      "cell_type": "code",
      "execution_count": null,
      "metadata": {
        "colab": {
          "base_uri": "https://localhost:8080/",
          "height": 841
        },
        "id": "6F8zULnIOX6l",
        "outputId": "f556582a-efce-443a-c9bf-52529dc5b2e0"
      },
      "outputs": [
        {
          "data": {
            "image/png": "[encoded data removed]",
            "text/plain": [
              "<Figure size 500x300 with 1 Axes>"
            ]
          },
          "metadata": {},
          "output_type": "display_data"
        },
        {
          "name": "stdout",
          "output_type": "stream",
          "text": [
            "                            OLS Regression Results                            \n",
            "==============================================================================\n",
            "Dep. Variable:                      y   R-squared:                       0.953\n",
            "Model:                            OLS   Adj. R-squared:                  0.947\n",
            "Method:                 Least Squares   F-statistic:                     160.6\n",
            "Date:                Thu, 15 Feb 2024   Prob (F-statistic):           1.41e-06\n",
            "Time:                        20:09:40   Log-Likelihood:                -11.312\n",
            "No. Observations:                  10   AIC:                             26.62\n",
            "Df Residuals:                       8   BIC:                             27.23\n",
            "Df Model:                           1                                         \n",
            "Covariance Type:            nonrobust                                         \n",
            "==============================================================================\n",
            "                 coef    std err          t      P>|t|      [0.025      0.975]\n",
            "------------------------------------------------------------------------------\n",
            "Intercept      1.2364      0.493      2.509      0.036       0.100       2.373\n",
            "x              1.1697      0.092     12.671      0.000       0.957       1.383\n",
            "==============================================================================\n",
            "Omnibus:                        0.948   Durbin-Watson:                   2.059\n",
            "Prob(Omnibus):                  0.622   Jarque-Bera (JB):                0.392\n",
            "Skew:                          -0.461   Prob(JB):                        0.822\n",
            "Kurtosis:                       2.702   Cond. No.                         10.2\n",
            "==============================================================================\n",
            "\n",
            "Notes:\n",
            "[1] Standard Errors assume that the covariance matrix of the errors is correctly specified.\n"
          ]
        },
        {
          "name": "stderr",
          "output_type": "stream",
          "text": [
            "D:\\Programas\\Lib\\site-packages\\scipy\\stats\\_stats_py.py:1736: UserWarning: kurtosistest only valid for n>=20 ... continuing anyway, n=10\n",
            "  warnings.warn(\"kurtosistest only valid for n>=20 ... continuing \"\n"
          ]
        }
      ],
      "source": [
        "import numpy as np\n",
        "import pandas as pd\n",
        "from sklearn.linear_model import LinearRegression\n",
        "from statsmodels.formula.api import ols\n",
        "import matplotlib.pyplot as plt\n",
        "\n",
        "\n",
        "# dados\n",
        "x = np.array([0, 1, 2, 3, 4, 5, 6, 7, 8, 9])\n",
        "y = np.array([1, 3, 2, 5, 7, 8, 8, 9, 10, 12])\n",
        "data = pd.DataFrame({'x': x, 'y': y})\n",
        "\n",
        "# ajusta o modelo de regressão linear\n",
        "x = x.reshape(-1, 1)\n",
        "reg = LinearRegression().fit(x, y)\n",
        "y_predicted = reg.predict(x)\n",
        "\n",
        "# mostra os resultados\n",
        "plt.figure(figsize=(5,3))\n",
        "plt.plot(x, y, 'o', color='black');\n",
        "plt.plot(x,y_predicted,color='blue')\n",
        "plt.xlabel('x', fontsize = 20)\n",
        "plt.ylabel('y', fontsize = 20)\n",
        "plt.show(True)\n",
        "\n",
        "# sumários estatístico com OLS\n",
        "model = ols(\"y ~ x\", data).fit()\n",
        "print(model.summary())"
      ]
    },
    {
      "cell_type": "markdown",
      "metadata": {
        "id": "aVWnbisOOX6l"
      },
      "source": [
        "Notem que a inferência sobre o modelo é feita de forma automática, calculado o valor p (P>|t|) e determinando o intervalo de confiança 95%."
      ]
    },
    {
      "cell_type": "markdown",
      "metadata": {
        "id": "PEpdX_68OX6m"
      },
      "source": [
        "Podemos ainda calcular esse intervalo conforme abaixo."
      ]
    },
    {
      "cell_type": "code",
      "execution_count": null,
      "metadata": {
        "colab": {
          "base_uri": "https://localhost:8080/"
        },
        "id": "z4CVS6GbOX6m",
        "outputId": "0d12b40d-6b4f-43b1-f206-da040df8e189",
        "scrolled": true
      },
      "outputs": [
        {
          "name": "stdout",
          "output_type": "stream",
          "text": [
            "IC:                    0         1\n",
            "Intercept  0.099934  2.372793\n",
            "x          0.956824  1.382570\n"
          ]
        }
      ],
      "source": [
        "print('IC: ', model.conf_int(alpha=0.05, cols=None))"
      ]
    },
    {
      "cell_type": "markdown",
      "metadata": {
        "id": "piPfAhS2OX6m"
      },
      "source": [
        "Vamos considerar um caso em que o modelo não se aplica, ou seja, não há uma relação linear entre as variáveis."
      ]
    },
    {
      "cell_type": "code",
      "execution_count": null,
      "metadata": {
        "colab": {
          "base_uri": "https://localhost:8080/",
          "height": 861
        },
        "id": "k0G-Fz76OX6m",
        "outputId": "dc406800-2534-4839-d452-4d4e4442a01e"
      },
      "outputs": [
        {
          "data": {
            "image/png": "[encoded data removed]",
            "text/plain": [
              "<Figure size 800x400 with 1 Axes>"
            ]
          },
          "metadata": {},
          "output_type": "display_data"
        },
        {
          "name": "stdout",
          "output_type": "stream",
          "text": [
            "                            OLS Regression Results                            \n",
            "==============================================================================\n",
            "Dep. Variable:                      y   R-squared:                       0.004\n",
            "Model:                            OLS   Adj. R-squared:                 -0.017\n",
            "Method:                 Least Squares   F-statistic:                    0.1866\n",
            "Date:                Thu, 15 Feb 2024   Prob (F-statistic):              0.668\n",
            "Time:                        20:09:41   Log-Likelihood:                -74.351\n",
            "No. Observations:                  50   AIC:                             152.7\n",
            "Df Residuals:                      48   BIC:                             156.5\n",
            "Df Model:                           1                                         \n",
            "Covariance Type:            nonrobust                                         \n",
            "==============================================================================\n",
            "                 coef    std err          t      P>|t|      [0.025      0.975]\n",
            "------------------------------------------------------------------------------\n",
            "Intercept      0.3906      0.304      1.283      0.206      -0.222       1.003\n",
            "x             -0.2266      0.525     -0.432      0.668      -1.281       0.828\n",
            "==============================================================================\n",
            "Omnibus:                        1.017   Durbin-Watson:                   1.895\n",
            "Prob(Omnibus):                  0.601   Jarque-Bera (JB):                1.073\n",
            "Skew:                           0.295   Prob(JB):                        0.585\n",
            "Kurtosis:                       2.592   Cond. No.                         4.31\n",
            "==============================================================================\n",
            "\n",
            "Notes:\n",
            "[1] Standard Errors assume that the covariance matrix of the errors is correctly specified.\n"
          ]
        }
      ],
      "source": [
        "import numpy as np\n",
        "import pandas as pd\n",
        "from statsmodels.formula.api import ols\n",
        "\n",
        "# dados\n",
        "n = 50\n",
        "x = np.linspace(0, 1,n)\n",
        "y = np.random.normal(0,1, n)\n",
        "data = pd.DataFrame({'x': x, 'y': y})\n",
        "\n",
        "# ajusta o modelo de regressão linear\n",
        "x = x.reshape(-1, 1)\n",
        "reg = LinearRegression().fit(x, y)\n",
        "y_predicted = reg.predict(x)\n",
        "\n",
        "# Mostra os resultados\n",
        "plt.figure(figsize=(8,4))\n",
        "plt.plot(x, y, 'o', color='black');\n",
        "plt.plot(x,y_predicted,color='blue')\n",
        "plt.xlabel('x', fontsize = 20)\n",
        "plt.ylabel('y', fontsize = 20)\n",
        "plt.savefig('regress-random.svg')\n",
        "plt.show(True)\n",
        "\n",
        "# sumários estatístico com OLS\n",
        "model = ols(\"y ~ x\", data).fit()\n",
        "print(model.summary())"
      ]
    },
    {
      "cell_type": "markdown",
      "metadata": {
        "id": "kSnbjm3rOX6m"
      },
      "source": [
        "Portanto, vemos que os parâmetros são não-significativos (P > 0.05), conforme o esperado, pois geramos dados onde não há uma relação linear entre as variáveis."
      ]
    },
    {
      "cell_type": "markdown",
      "metadata": {
        "id": "HMARZLaDOX6n"
      },
      "source": [
        "No caso multivariado, vamos considerar que y não depende de X3, que deve ser não significativo."
      ]
    },
    {
      "cell_type": "code",
      "execution_count": null,
      "metadata": {
        "colab": {
          "base_uri": "https://localhost:8080/"
        },
        "id": "fb056_16OX6n",
        "outputId": "4d4b7540-00f5-430e-ab19-c5c7a84db3df"
      },
      "outputs": [
        {
          "name": "stdout",
          "output_type": "stream",
          "text": [
            "                            OLS Regression Results                            \n",
            "==============================================================================\n",
            "Dep. Variable:                      y   R-squared:                       0.847\n",
            "Model:                            OLS   Adj. R-squared:                  0.846\n",
            "Method:                 Least Squares   F-statistic:                     916.3\n",
            "Date:                Thu, 15 Feb 2024   Prob (F-statistic):          8.25e-202\n",
            "Time:                        20:09:41   Log-Likelihood:                -1507.3\n",
            "No. Observations:                 500   AIC:                             3023.\n",
            "Df Residuals:                     496   BIC:                             3039.\n",
            "Df Model:                           3                                         \n",
            "Covariance Type:            nonrobust                                         \n",
            "==============================================================================\n",
            "                 coef    std err          t      P>|t|      [0.025      0.975]\n",
            "------------------------------------------------------------------------------\n",
            "Intercept      4.2219      0.709      5.953      0.000       2.828       5.615\n",
            "x1             1.9849      0.078     25.557      0.000       1.832       2.138\n",
            "x2             3.2020      0.075     42.463      0.000       3.054       3.350\n",
            "x3            -0.0210      0.085     -0.247      0.805      -0.188       0.146\n",
            "==============================================================================\n",
            "Omnibus:                        0.735   Durbin-Watson:                   1.945\n",
            "Prob(Omnibus):                  0.692   Jarque-Bera (JB):                0.817\n",
            "Skew:                           0.021   Prob(JB):                        0.665\n",
            "Kurtosis:                       2.807   Cond. No.                         30.4\n",
            "==============================================================================\n",
            "\n",
            "Notes:\n",
            "[1] Standard Errors assume that the covariance matrix of the errors is correctly specified.\n",
            "Parâmetros:\n",
            " Intercept    4.221891\n",
            "x1           1.984922\n",
            "x2           3.202007\n",
            "x3          -0.021012\n",
            "dtype: float64\n"
          ]
        }
      ],
      "source": [
        "from statsmodels.formula.api import ols\n",
        "import pandas as pd\n",
        "import numpy as np\n",
        "np.random.seed(10)\n",
        "\n",
        "n = 500 # número de observações\n",
        "# gera os dados\n",
        "x1 = np.random.uniform(0,10, (n, 1));\n",
        "x2 = np.random.uniform(0,10, (n, 1));\n",
        "x3 = np.random.uniform(1,10, (n, 1));\n",
        "e = np.random.normal(0,5, (n, 1))\n",
        "y = 5 + 2*x1 + 3*x2 + e\n",
        "\n",
        "X = np.hstack((x1,x2,x3,y))\n",
        "data = pd.DataFrame(X, columns = ['x1', 'x2','x3','y'])\n",
        "\n",
        "# sumários estatístico com o OLS\n",
        "model = ols(formula='y ~ x1 + x2 + x3', data = data).fit()\n",
        "print(model.summary())\n",
        "print('Parâmetros:\\n', model.params)"
      ]
    },
    {
      "cell_type": "markdown",
      "metadata": {
        "id": "Z0hoLsNsOX6n"
      },
      "source": [
        "Logo, vemos que X3 é não significativo (valor p igual a 0.805)."
      ]
    },
    {
      "cell_type": "markdown",
      "metadata": {
        "id": "JKT4SJcOOX6n"
      },
      "source": [
        "### Inferência sobre o modelo em um conjunto de dados"
      ]
    },
    {
      "cell_type": "markdown",
      "metadata": {
        "id": "_n60rv7sOX6n"
      },
      "source": [
        "Vamos realizar essa operação em um conjunto de dados."
      ]
    },
    {
      "cell_type": "code",
      "execution_count": null,
      "metadata": {
        "colab": {
          "base_uri": "https://localhost:8080/"
        },
        "id": "iFnpBtm0OX6n",
        "outputId": "87326d07-d590-4253-ed43-499b37183705"
      },
      "outputs": [
        {
          "name": "stdout",
          "output_type": "stream",
          "text": [
            "Número de linhas e colunas: (506, 14)\n",
            "Modelo as ser ajustado:  medv~crim+zn+indus+chas+nox+rm+age+dis+rad+tax+ptratio+b+lstat\n",
            "                            OLS Regression Results                            \n",
            "==============================================================================\n",
            "Dep. Variable:                   medv   R-squared:                       0.741\n",
            "Model:                            OLS   Adj. R-squared:                  0.734\n",
            "Method:                 Least Squares   F-statistic:                     108.1\n",
            "Date:                Thu, 15 Feb 2024   Prob (F-statistic):          6.72e-135\n",
            "Time:                        20:09:41   Log-Likelihood:                -1498.8\n",
            "No. Observations:                 506   AIC:                             3026.\n",
            "Df Residuals:                     492   BIC:                             3085.\n",
            "Df Model:                          13                                         \n",
            "Covariance Type:            nonrobust                                         \n",
            "==============================================================================\n",
            "                 coef    std err          t      P>|t|      [0.025      0.975]\n",
            "------------------------------------------------------------------------------\n",
            "Intercept     36.4595      5.103      7.144      0.000      26.432      46.487\n",
            "crim          -0.1080      0.033     -3.287      0.001      -0.173      -0.043\n",
            "zn             0.0464      0.014      3.382      0.001       0.019       0.073\n",
            "indus          0.0206      0.061      0.334      0.738      -0.100       0.141\n",
            "chas           2.6867      0.862      3.118      0.002       0.994       4.380\n",
            "nox          -17.7666      3.820     -4.651      0.000     -25.272     -10.262\n",
            "rm             3.8099      0.418      9.116      0.000       2.989       4.631\n",
            "age            0.0007      0.013      0.052      0.958      -0.025       0.027\n",
            "dis           -1.4756      0.199     -7.398      0.000      -1.867      -1.084\n",
            "rad            0.3060      0.066      4.613      0.000       0.176       0.436\n",
            "tax           -0.0123      0.004     -3.280      0.001      -0.020      -0.005\n",
            "ptratio       -0.9527      0.131     -7.283      0.000      -1.210      -0.696\n",
            "b              0.0093      0.003      3.467      0.001       0.004       0.015\n",
            "lstat         -0.5248      0.051    -10.347      0.000      -0.624      -0.425\n",
            "==============================================================================\n",
            "Omnibus:                      178.041   Durbin-Watson:                   1.078\n",
            "Prob(Omnibus):                  0.000   Jarque-Bera (JB):              783.126\n",
            "Skew:                           1.521   Prob(JB):                    8.84e-171\n",
            "Kurtosis:                       8.281   Cond. No.                     1.51e+04\n",
            "==============================================================================\n",
            "\n",
            "Notes:\n",
            "[1] Standard Errors assume that the covariance matrix of the errors is correctly specified.\n",
            "[2] The condition number is large, 1.51e+04. This might indicate that there are\n",
            "strong multicollinearity or other numerical problems.\n"
          ]
        }
      ],
      "source": [
        "import pandas as pd\n",
        "import matplotlib.pyplot as plt\n",
        "from statsmodels.formula.api import ols\n",
        "\n",
        "# le os dados\n",
        "data = pd.read_csv('data/BostonHousing.csv', header=(0))\n",
        "#data = pd.read_csv('data/Advertising.csv', header=(0), index_col=[0])\n",
        "# valor a ser predito\n",
        "ylabel = data.columns[-1]\n",
        "print(\"Número de linhas e colunas:\", data.shape)\n",
        "data.head(10)\n",
        "\n",
        "# monta o modelo: y ~ x1 + x2 + ...\n",
        "model_string =  data.columns[0]\n",
        "features = data.columns[1:-1]\n",
        "for s in features:\n",
        "    model_string = model_string + '+' + s\n",
        "model_string = data.columns[-1] + '~' + model_string\n",
        "print('Modelo as ser ajustado: ', model_string)\n",
        "\n",
        "model = ols(model_string, data).fit()\n",
        "print(model.summary())"
      ]
    },
    {
      "cell_type": "markdown",
      "metadata": {
        "id": "DD_wAnD8OX6o"
      },
      "source": [
        "Vemos que o atributo age é não significativo (valor p igual a 0.958)."
      ]
    },
    {
      "cell_type": "markdown",
      "metadata": {
        "id": "Ol2FPsdrOX6o"
      },
      "source": [
        "## Exercícios de fixação"
      ]
    },
    {
      "cell_type": "markdown",
      "metadata": {
        "id": "ba1i6qMcOX6o"
      },
      "source": [
        "Não é necessário entregar os exercícios abaixo, mas é importante resolvê-los para fixar os conteúdos estudados."
      ]
    },
    {
      "cell_type": "markdown",
      "metadata": {
        "id": "I27lln9hOX6o"
      },
      "source": [
        "1 - Considere a base BostonHousing. Compare o coeficiente R2 obtido através de regressão linear múltipla, Lasso e ridge regression. Para os métodos Lasso e ridge regression, faça um gráfico de $\\alpha ~\\times $ R2 como foi feito nos exemplos anteriores."
      ]
    },
    {
      "cell_type": "code",
      "execution_count": null,
      "metadata": {
        "id": "AXFBDNLpzh_F"
      },
      "outputs": [],
      "source": [
        "# Imports\n",
        "import pandas as pd\n",
        "import matplotlib.pyplot as plt\n",
        "import numpy as np\n",
        "from statsmodels.formula.api import ols\n",
        "\n",
        "from sklearn.metrics import r2_score, mean_squared_error\n",
        "from sklearn.model_selection import train_test_split\n",
        "from sklearn.linear_model import LinearRegression, Ridge, RidgeCV, Lasso\n",
        "from sklearn.preprocessing import PolynomialFeatures"
      ]
    },
    {
      "cell_type": "code",
      "execution_count": null,
      "metadata": {
        "id": "BfNLJUKYzh_F"
      },
      "outputs": [],
      "source": [
        "# le os dados\n",
        "data = pd.read_csv('data/BostonHousing.csv', header=(0))"
      ]
    },
    {
      "cell_type": "code",
      "execution_count": null,
      "metadata": {
        "id": "y5jjQLp2zh_F"
      },
      "outputs": [],
      "source": [
        "X = data.values[:, :-1]\n",
        "y = data.values[:,  -1]\n",
        "# X,y"
      ]
    },
    {
      "cell_type": "code",
      "execution_count": null,
      "metadata": {
        "id": "CB0w43aRzh_F"
      },
      "outputs": [],
      "source": [
        "xtrain, xtest, ytrain, ytest = train_test_split(X, y, test_size = 0.3)"
      ]
    },
    {
      "cell_type": "markdown",
      "metadata": {
        "id": "w7-PhNXzzh_G"
      },
      "source": [
        "### RLM"
      ]
    },
    {
      "cell_type": "code",
      "execution_count": null,
      "metadata": {
        "id": "4uB0c-HNzh_G",
        "outputId": "b8d90ca7-e07d-484b-8825-82beeb5bff51"
      },
      "outputs": [
        {
          "name": "stdout",
          "output_type": "stream",
          "text": [
            "R2 para RLM =  0.6483731325362436\n"
          ]
        }
      ],
      "source": [
        "objRL = LinearRegression()\n",
        "objRL.fit(xtrain, ytrain)\n",
        "\n",
        "ypred = objRL.predict(xtest)\n",
        "\n",
        "R2_RLM = r2_score(ypred, ytest)\n",
        "\n",
        "print(\"R2 para RLM = \", R2_RLM)"
      ]
    },
    {
      "cell_type": "markdown",
      "metadata": {
        "id": "L7YKFhPMzh_G"
      },
      "source": [
        "### Ridge"
      ]
    },
    {
      "cell_type": "code",
      "execution_count": null,
      "metadata": {
        "id": "aG5AtnLozh_H",
        "outputId": "bdbed9d1-1459-4d4c-a3e6-6c471639afc5"
      },
      "outputs": [
        {
          "name": "stdout",
          "output_type": "stream",
          "text": [
            "R2 para Ridge =  0.6484994754482967\n"
          ]
        }
      ],
      "source": [
        "_alpha = 0.1\n",
        "objRi = Ridge(alpha = _alpha)\n",
        "objRi.fit(xtrain, ytrain)\n",
        "\n",
        "ypred = objRi.predict(xtest)\n",
        "\n",
        "R2_Ri = r2_score(ypred, ytest)\n",
        "\n",
        "print(\"R2 para Ridge = \", R2_Ri)"
      ]
    },
    {
      "cell_type": "markdown",
      "metadata": {
        "id": "lLyA08wTzh_H"
      },
      "source": [
        "### LASSO"
      ]
    },
    {
      "cell_type": "code",
      "execution_count": null,
      "metadata": {
        "id": "ekh5piwRzh_H",
        "outputId": "88862c66-e1a7-45a8-eb95-6594c60042fc"
      },
      "outputs": [
        {
          "name": "stdout",
          "output_type": "stream",
          "text": [
            "R2 para Lasso =  0.6204174631995462\n"
          ]
        }
      ],
      "source": [
        "_alpha = 0.1\n",
        "objLasso = Lasso(alpha = _alpha)\n",
        "objLasso.fit(xtrain, ytrain)\n",
        "\n",
        "ypred = objLasso.predict(xtest)\n",
        "\n",
        "R2_Lasso = r2_score(ypred, ytest)\n",
        "\n",
        "print(\"R2 para Lasso = \", R2_Lasso)"
      ]
    },
    {
      "cell_type": "markdown",
      "metadata": {
        "id": "iqXDDsH0zh_I"
      },
      "source": [
        "### Comparação $\\alpha ~\\times$ R2 para Ridge e LASSO"
      ]
    },
    {
      "cell_type": "code",
      "execution_count": null,
      "metadata": {
        "scrolled": true,
        "id": "izxWtuSTzh_I",
        "outputId": "0655d61e-795d-4a32-fea2-7f08eddf9032"
      },
      "outputs": [
        {
          "data": {
            "text/plain": [
              "[<matplotlib.lines.Line2D at 0x153af101a90>]"
            ]
          },
          "execution_count": 68,
          "metadata": {},
          "output_type": "execute_result"
        },
        {
          "data": {
            "image/png": "[encoded data removed]",
            "text/plain": [
              "<Figure size 640x480 with 2 Axes>"
            ]
          },
          "metadata": {},
          "output_type": "display_data"
        }
      ],
      "source": [
        "R2_Ri_list = []\n",
        "for _alpha in np.arange(0.1, 100, 1):\n",
        "    objRi = Ridge(alpha = _alpha)\n",
        "    objRi.fit(xtrain, ytrain)\n",
        "\n",
        "    ypred = objRi.predict(xtest)\n",
        "\n",
        "    R2_Ri = r2_score(ypred, ytest)\n",
        "\n",
        "    R2_Ri_list.append(R2_Ri)\n",
        "\n",
        "R2_Lasso_list = []\n",
        "for _alpha in np.arange(0.1, 100, 1):\n",
        "    objLasso = Lasso(alpha = _alpha)\n",
        "    objLasso.fit(xtrain, ytrain)\n",
        "\n",
        "    ypred = objLasso.predict(xtest)\n",
        "\n",
        "    R2_Lasso = r2_score(ypred, ytest)\n",
        "\n",
        "    R2_Lasso_list.append(R2_Lasso)\n",
        "\n",
        "fig, (eixo_1, eixo_2) = plt.subplots(1, 2)\n",
        "eixo_1.plot(np.arange(0.1, 100, 1), R2_Ri_list)\n",
        "eixo_2.plot(np.arange(0.1, 100, 1), R2_Lasso_list)"
      ]
    },
    {
      "cell_type": "code",
      "execution_count": null,
      "metadata": {
        "id": "fId_WYNEzh_I",
        "outputId": "cb36f5c5-fb5a-4bd5-ce8e-a078dd1f3d45"
      },
      "outputs": [
        {
          "data": {
            "text/plain": [
              "[<matplotlib.lines.Line2D at 0x153af3022d0>]"
            ]
          },
          "execution_count": 70,
          "metadata": {},
          "output_type": "execute_result"
        },
        {
          "data": {
            "image/png": "[encoded data removed]",
            "text/plain": [
              "<Figure size 640x480 with 1 Axes>"
            ]
          },
          "metadata": {},
          "output_type": "display_data"
        }
      ],
      "source": [
        "plt.plot(np.arange(0.1, 100, 1), R2_Ri_list, 'r--')\n",
        "plt.plot(np.arange(0.1, 100, 1), R2_Lasso_list, 'b-')"
      ]
    },
    {
      "cell_type": "markdown",
      "metadata": {
        "id": "tpYopShZOX6o"
      },
      "source": [
        "2 - Para os dados gerados pelo código abaixo, ajuste um modelo de regressão não-linear considerando um polinômio de grau 3, conforme feito na aula."
      ]
    },
    {
      "cell_type": "code",
      "execution_count": null,
      "metadata": {
        "colab": {
          "base_uri": "https://localhost:8080/",
          "height": 455
        },
        "id": "aoXSTS5sOX6o",
        "outputId": "d26c1d0a-dc8c-4d82-b249-feceb448a3c6",
        "scrolled": true
      },
      "outputs": [
        {
          "data": {
            "image/png": "[encoded data removed]",
            "text/plain": [
              "<Figure size 640x480 with 1 Axes>"
            ]
          },
          "metadata": {},
          "output_type": "display_data"
        }
      ],
      "source": [
        "import numpy as np\n",
        "from sklearn.linear_model import LinearRegression\n",
        "\n",
        "N = 10\n",
        "x = np.linspace(0,10,N)\n",
        "y = x**3 + np.random.normal(0,50, N)\n",
        "plt.plot(x,y, 'ro')\n",
        "plt.ylabel(\"y\", fontsize=15)\n",
        "plt.xlabel(\"x\", fontsize=15)\n",
        "\n",
        "plt.show(True)"
      ]
    },
    {
      "cell_type": "code",
      "execution_count": null,
      "metadata": {
        "id": "8pNGjTTUzh_I",
        "outputId": "668d0e5c-55c6-44cf-d36c-367b7570453d"
      },
      "outputs": [
        {
          "name": "stdout",
          "output_type": "stream",
          "text": [
            "Dados originais:\n",
            " [[ 0.        ]\n",
            " [ 1.11111111]\n",
            " [ 2.22222222]\n",
            " [ 3.33333333]\n",
            " [ 4.44444444]\n",
            " [ 5.55555556]\n",
            " [ 6.66666667]\n",
            " [ 7.77777778]\n",
            " [ 8.88888889]\n",
            " [10.        ]]\n",
            "Novos dados:\n",
            " [[   0.            0.            0.        ]\n",
            " [   1.11111111    1.2345679     1.37174211]\n",
            " [   2.22222222    4.9382716    10.9739369 ]\n",
            " [   3.33333333   11.11111111   37.03703704]\n",
            " [   4.44444444   19.75308642   87.7914952 ]\n",
            " [   5.55555556   30.86419753  171.46776406]\n",
            " [   6.66666667   44.44444444  296.2962963 ]\n",
            " [   7.77777778   60.49382716  470.50754458]\n",
            " [   8.88888889   79.01234568  702.33196159]\n",
            " [  10.          100.         1000.        ]]\n"
          ]
        }
      ],
      "source": [
        "# define a transformação nos dados\n",
        "transformer = PolynomialFeatures(degree=3, include_bias=False)\n",
        "x = x.reshape((-1, 1))\n",
        "transformer.fit(x)\n",
        "print('Dados originais:\\n', x)\n",
        "\n",
        "# transforma os dados incluindo uma nova coluna com valores quadráticos\n",
        "x_pol = transformer.transform(x)\n",
        "print('Novos dados:\\n', x_pol)"
      ]
    },
    {
      "cell_type": "code",
      "execution_count": null,
      "metadata": {
        "id": "1t7sgw7Ozh_J"
      },
      "outputs": [],
      "source": [
        "objRL = LinearRegression()\n",
        "objRL.fit(x_pol, y)\n",
        "\n",
        "ypred = objRL.predict(x_pol)\n"
      ]
    },
    {
      "cell_type": "code",
      "execution_count": null,
      "metadata": {
        "id": "qq4XVFEAzh_J",
        "outputId": "02f5c81d-c035-460f-c4fe-8d3fb2aa63e3"
      },
      "outputs": [
        {
          "data": {
            "text/plain": [
              "[<matplotlib.lines.Line2D at 0x153af2a6590>]"
            ]
          },
          "execution_count": 74,
          "metadata": {},
          "output_type": "execute_result"
        },
        {
          "data": {
            "image/png": "[encoded data removed]",
            "text/plain": [
              "<Figure size 640x480 with 1 Axes>"
            ]
          },
          "metadata": {},
          "output_type": "display_data"
        }
      ],
      "source": [
        "plt.scatter(x, y)\n",
        "plt.plot(x, ypred, 'r--')"
      ]
    },
    {
      "cell_type": "code",
      "execution_count": null,
      "metadata": {
        "id": "YY7G_BD6zh_J",
        "outputId": "871aa064-9cb8-4b34-c9f2-4bf9381f9800"
      },
      "outputs": [
        {
          "data": {
            "text/plain": [
              "[<matplotlib.lines.Line2D at 0x153ad3b18d0>]"
            ]
          },
          "execution_count": 75,
          "metadata": {},
          "output_type": "execute_result"
        },
        {
          "data": {
            "image/png": "[encoded data removed]",
            "text/plain": [
              "<Figure size 640x480 with 1 Axes>"
            ]
          },
          "metadata": {},
          "output_type": "display_data"
        }
      ],
      "source": [
        "plt.scatter(y, ypred)\n",
        "plt.plot(np.arange(-100,1000,1),np.arange(-100,1000,1),'r--')"
      ]
    },
    {
      "cell_type": "markdown",
      "metadata": {
        "id": "qtnczqTJOX6p"
      },
      "source": [
        "3 - Determine as variáveis que mais influenciam o preço de imóveis em Boston usando Lasso."
      ]
    },
    {
      "cell_type": "code",
      "execution_count": null,
      "metadata": {
        "id": "yE0c-_0szh_J",
        "outputId": "99e0dfc2-0f78-4b8c-df92-abaa2d71199d"
      },
      "outputs": [
        {
          "name": "stdout",
          "output_type": "stream",
          "text": [
            "[-7.94332577e-02  5.71115407e-02 -9.60080801e-03  0.00000000e+00\n",
            " -0.00000000e+00  3.43321872e+00 -1.73887664e-03 -1.07731867e+00\n",
            "  3.56657798e-01 -1.70726880e-02 -8.87390979e-01  1.47068506e-02\n",
            " -5.80521764e-01]\n"
          ]
        }
      ],
      "source": [
        "X = data.values[:, :-1]\n",
        "y = data.values[:,  -1]\n",
        "\n",
        "xtrain, xtest, ytrain, ytest = train_test_split(X, y, test_size = 0.3)\n",
        "\n",
        "_alpha = 0.1\n",
        "objLasso = Lasso(alpha = _alpha)\n",
        "objLasso.fit(xtrain, ytrain)\n",
        "\n",
        "var_x_influcia = objLasso.coef_\n",
        "\n",
        "print(var_x_influcia)"
      ]
    },
    {
      "cell_type": "code",
      "execution_count": null,
      "metadata": {
        "id": "VriXQ8QIzh_K",
        "outputId": "3cd15612-8505-4b78-a685-7fabe7022e8b"
      },
      "outputs": [
        {
          "data": {
            "text/plain": [
              "<BarContainer object of 13 artists>"
            ]
          },
          "execution_count": 77,
          "metadata": {},
          "output_type": "execute_result"
        },
        {
          "data": {
            "image/png": "[encoded data removed]",
            "text/plain": [
              "<Figure size 640x480 with 1 Axes>"
            ]
          },
          "metadata": {},
          "output_type": "display_data"
        }
      ],
      "source": [
        "plt.bar(data.columns[:-1], var_x_influcia)"
      ]
    },
    {
      "cell_type": "code",
      "execution_count": null,
      "metadata": {
        "id": "xapJeptVzh_K"
      },
      "outputs": [],
      "source": [
        "y_chas = xtest[:,4]"
      ]
    },
    {
      "cell_type": "code",
      "execution_count": null,
      "metadata": {
        "id": "asd_VkW1zh_K",
        "outputId": "17d30f77-a73a-43d3-907b-74bd76f6e3f5"
      },
      "outputs": [
        {
          "data": {
            "text/plain": [
              "<matplotlib.collections.PathCollection at 0x153b41bb390>"
            ]
          },
          "execution_count": 89,
          "metadata": {},
          "output_type": "execute_result"
        },
        {
          "data": {
            "image/png": "[encoded data removed]",
            "text/plain": [
              "<Figure size 640x480 with 1 Axes>"
            ]
          },
          "metadata": {},
          "output_type": "display_data"
        }
      ],
      "source": [
        "plt.scatter(y_chas, ytest)"
      ]
    },
    {
      "cell_type": "code",
      "execution_count": null,
      "metadata": {
        "id": "XobFUFh5zh_K",
        "outputId": "b284d54e-1e2b-4c14-c577-241d403c8445"
      },
      "outputs": [
        {
          "data": {
            "text/plain": [
              "<matplotlib.collections.PathCollection at 0x153b4362ed0>"
            ]
          },
          "execution_count": 91,
          "metadata": {},
          "output_type": "execute_result"
        },
        {
          "data": {
            "image/png": "[encoded data removed]",
            "text/plain": [
              "<Figure size 640x480 with 1 Axes>"
            ]
          },
          "metadata": {},
          "output_type": "display_data"
        }
      ],
      "source": [
        "plt.scatter(np.random.normal(0,50, 100), np.random.normal(0,50, 100))"
      ]
    },
    {
      "cell_type": "code",
      "execution_count": null,
      "metadata": {
        "id": "mpB1IOf0zh_K"
      },
      "outputs": [],
      "source": []
    }
  ],
  "metadata": {
    "colab": {
      "provenance": [],
      "include_colab_link": true
    },
    "kernelspec": {
      "display_name": "Python 3 (ipykernel)",
      "language": "python",
      "name": "python3"
    },
    "language_info": {
      "codemirror_mode": {
        "name": "ipython",
        "version": 3
      },
      "file_extension": ".py",
      "mimetype": "text/x-python",
      "name": "python",
      "nbconvert_exporter": "python",
      "pygments_lexer": "ipython3",
      "version": "3.11.4"
    }
  },
  "nbformat": 4,
  "nbformat_minor": 0
}